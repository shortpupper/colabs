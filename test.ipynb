{
  "nbformat": 4,
  "nbformat_minor": 0,
  "metadata": {
    "colab": {
      "name": "test.ipynb",
      "provenance": [],
      "authorship_tag": "ABX9TyNiBRAA+uAu2GB5v6+l0O3L",
      "include_colab_link": true
    },
    "kernelspec": {
      "name": "python3",
      "display_name": "Python 3"
    },
    "language_info": {
      "name": "python"
    }
  },
  "cells": [
    {
      "cell_type": "markdown",
      "metadata": {
        "id": "view-in-github",
        "colab_type": "text"
      },
    }
    {
      "cell_type": "code",
      "execution_count": null,
      "metadata": {
        "id": "VC_o25vuqS-u"
      },
      "outputs": [],
      "source": [
        "print(\"Hello World!\")"
      ]
    }
  ]
}
